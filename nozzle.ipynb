{
 "cells": [
  {
   "cell_type": "markdown",
   "source": [
    "# Engine Design Calculations"
   ],
   "metadata": {}
  },
  {
   "cell_type": "code",
   "execution_count": 15,
   "source": [
    "from matplotlib import pyplot as plt\r\n",
    "from lib import cea\r\n",
    "from lib.nozzle import *\r\n",
    "import numpy as np\r\n",
    "from scipy import constants\r\n",
    "import thermo\r\n",
    "import fluids"
   ],
   "outputs": [],
   "metadata": {}
  },
  {
   "cell_type": "markdown",
   "source": [
    "## Initial parameters"
   ],
   "metadata": {}
  },
  {
   "cell_type": "code",
   "execution_count": 16,
   "source": [
    "equilibrium = True\r\n",
    "\r\n",
    "fuel_chems = ('JP-5',) #allows specifying a mixture of chemicals in the fuel\r\n",
    "fuel_percs = (100,) #see the CEA docs for which formula strings will work\r\n",
    "rho_fuel_kgpm3 = 810\r\n",
    "press_chem='N2' #pressurant to use\r\n",
    "P_press_initial_bar = 200\r\n",
    "T_initial_fuel_K = 298\r\n",
    "\r\n",
    "ox_chem = 'O2'\r\n",
    "T_initial_ox_K = 298\r\n",
    "P_initial_ox_bar = 200\r\n",
    "\r\n",
    "r_of_mass = 1.85\r\n",
    "L_char_m = 1.3 #combustion characteristic length\r\n",
    "\r\n",
    "F_thrust_N = 3000 # thas right.\r\n",
    "dt_burn_s = 30 #max. burn time (for test stand run duration)\r\n",
    "P_chamber_bar = 30\r\n",
    "P_ambient_bar = 1.013\r\n",
    "\r\n",
    "T_std_K = 289 #60degF is standard conditions for finding SCFM flow rate\r\n",
    "P_std_bar = 1.013 #1atm is ...\r\n",
    "P_fuel_tank_bar = 40"
   ],
   "outputs": [],
   "metadata": {}
  },
  {
   "cell_type": "markdown",
   "source": [
    "## Combustion analysis"
   ],
   "metadata": {}
  },
  {
   "cell_type": "code",
   "execution_count": 17,
   "source": [
    "#setup input data\r\n",
    "cea_inp = cea.CEAInputData()\r\n",
    "cea_inp.equilibrium = equilibrium\r\n",
    "cea_inp.fuel_chems = fuel_chems\r\n",
    "cea_inp.fuel_chem_mass_percs = fuel_percs\r\n",
    "cea_inp.ox_chem = ox_chem\r\n",
    "cea_inp.fuel_initial_temp = T_initial_fuel_K\r\n",
    "cea_inp.ox_initial_temp = T_initial_ox_K\r\n",
    "cea_inp.pcham = P_chamber_bar\r\n",
    "cea_inp.pamb = P_ambient_bar\r\n",
    "cea_inp.of=r_of_mass\r\n",
    "\r\n",
    "#run CEA\r\n",
    "cea.create_inp_file(cea_inp)\r\n",
    "cea.run_executable()\r\n",
    "out = cea.parse_out_file()\r\n",
    "\r\n",
    "#setup output data\r\n",
    "T_chamber_K = out.chamber_temp\r\n",
    "v_exhaust_mps = out.exhaust_velocity\r\n",
    "c_star_mps = out.cstar\r\n",
    "gamma_exhaust = out.exhaust_gamma\r\n",
    "M_exhaust_kgpkmol = out.exhaust_molar_mass\r\n",
    "\r\n",
    "print(f'Exhaust speed: {v_exhaust_mps:.1f}m/s (specific impulse of {v_exhaust_mps/9.81:.1f}s)')\r\n",
    "print(f'Exhaust properties: gamma={gamma_exhaust}, M={M_exhaust_kgpkmol}kg/kmol')\r\n",
    "print(f'Chamber temperature: {T_chamber_K:.1f}K')"
   ],
   "outputs": [
    {
     "output_type": "stream",
     "name": "stdout",
     "text": [
      "Exhaust speed: 2632.3m/s (specific impulse of 268.3s)\n",
      "Exhaust properties: gamma=1.2455, M=20.277kg/kmol\n",
      "Chamber temperature: 3207.3K\n"
     ]
    }
   ],
   "metadata": {}
  },
  {
   "cell_type": "markdown",
   "source": [
    "## Nozzle & chamber"
   ],
   "metadata": {}
  },
  {
   "cell_type": "code",
   "execution_count": 18,
   "source": [
    "#input parameters\r\n",
    "r_A_converging = 8 #converging section area ratio (chamber area / throat area)\r\n",
    "theta_diverging_deg = 20\r\n",
    "theta_converging_deg = 45"
   ],
   "outputs": [],
   "metadata": {}
  },
  {
   "cell_type": "code",
   "execution_count": 19,
   "source": [
    "# check CEA values using simpler calc. of performance\r\n",
    "R=8.3144e3\r\n",
    "R_exhaust_JpkmolK = R / M_exhaust_kgpkmol\r\n",
    "v_exhaust_isentropic_mps = exhaust_velocity(\r\n",
    "    gamma_exhaust, M_exhaust_kgpkmol, T_chamber_K, P_chamber_bar, P_ambient_bar)\r\n",
    "if abs(v_exhaust_isentropic_mps - v_exhaust_mps) > 5:\r\n",
    "    print('CEA and isentropic velocity calcs don\\'t match. uh oh')\r\n",
    "    print(f'Isentropic exhaust vel: {v_exhaust_isentropic_mps} m/s')\r\n",
    "else:\r\n",
    "    print('CEA and simplified velocity calcs match. good')"
   ],
   "outputs": [
    {
     "output_type": "error",
     "ename": "NameError",
     "evalue": "name 'constants' is not defined",
     "traceback": [
      "\u001b[1;31m---------------------------------------------------------------------------\u001b[0m",
      "\u001b[1;31mNameError\u001b[0m                                 Traceback (most recent call last)",
      "\u001b[1;32m~\\AppData\\Local\\Temp/ipykernel_14924/3613193380.py\u001b[0m in \u001b[0;36m<module>\u001b[1;34m\u001b[0m\n\u001b[0;32m      2\u001b[0m \u001b[0mR\u001b[0m\u001b[1;33m=\u001b[0m\u001b[1;36m8.3144e3\u001b[0m\u001b[1;33m\u001b[0m\u001b[1;33m\u001b[0m\u001b[0m\n\u001b[0;32m      3\u001b[0m \u001b[0mR_exhaust_JpkmolK\u001b[0m \u001b[1;33m=\u001b[0m \u001b[0mR\u001b[0m \u001b[1;33m/\u001b[0m \u001b[0mM_exhaust_kgpkmol\u001b[0m\u001b[1;33m\u001b[0m\u001b[1;33m\u001b[0m\u001b[0m\n\u001b[1;32m----> 4\u001b[1;33m v_exhaust_isentropic_mps = exhaust_velocity(\n\u001b[0m\u001b[0;32m      5\u001b[0m     gamma_exhaust, M_exhaust_kgpkmol, T_chamber_K, P_chamber_bar, P_ambient_bar)\n\u001b[0;32m      6\u001b[0m \u001b[1;32mif\u001b[0m \u001b[0mabs\u001b[0m\u001b[1;33m(\u001b[0m\u001b[0mv_exhaust_isentropic_mps\u001b[0m \u001b[1;33m-\u001b[0m \u001b[0mv_exhaust_mps\u001b[0m\u001b[1;33m)\u001b[0m \u001b[1;33m>\u001b[0m \u001b[1;36m5\u001b[0m\u001b[1;33m:\u001b[0m\u001b[1;33m\u001b[0m\u001b[1;33m\u001b[0m\u001b[0m\n",
      "\u001b[1;32mc:\\Users\\henry\\Desktop\\RocketProject\\software\\PropulsionDesign\\lib\\nozzle.py\u001b[0m in \u001b[0;36mexhaust_velocity\u001b[1;34m(exhaust_gamma, exhaust_molar_mass, chamber_temp, chamber_pressure, ambient_pressure)\u001b[0m\n\u001b[0;32m      9\u001b[0m \u001b[1;33m\u001b[0m\u001b[0m\n\u001b[0;32m     10\u001b[0m \u001b[1;32mdef\u001b[0m \u001b[0mexhaust_velocity\u001b[0m\u001b[1;33m(\u001b[0m\u001b[0mexhaust_gamma\u001b[0m\u001b[1;33m,\u001b[0m \u001b[0mexhaust_molar_mass\u001b[0m\u001b[1;33m,\u001b[0m \u001b[0mchamber_temp\u001b[0m\u001b[1;33m,\u001b[0m \u001b[0mchamber_pressure\u001b[0m\u001b[1;33m,\u001b[0m \u001b[0mambient_pressure\u001b[0m\u001b[1;33m)\u001b[0m\u001b[1;33m:\u001b[0m\u001b[1;33m\u001b[0m\u001b[1;33m\u001b[0m\u001b[0m\n\u001b[1;32m---> 11\u001b[1;33m     \u001b[1;34m'''returns exhaust velocity, assuming isentropic expansion of gases to ambient pressure at exit'''\u001b[0m\u001b[1;33m\u001b[0m\u001b[1;33m\u001b[0m\u001b[0m\n\u001b[0m\u001b[0;32m     12\u001b[0m     \u001b[0mk\u001b[0m \u001b[1;33m=\u001b[0m \u001b[0mexhaust_gamma\u001b[0m\u001b[1;33m\u001b[0m\u001b[1;33m\u001b[0m\u001b[0m\n\u001b[0;32m     13\u001b[0m     \u001b[0mR\u001b[0m \u001b[1;33m=\u001b[0m \u001b[1;36m8.3144e3\u001b[0m \u001b[1;33m/\u001b[0m \u001b[0mexhaust_molar_mass\u001b[0m\u001b[1;33m\u001b[0m\u001b[1;33m\u001b[0m\u001b[0m\n",
      "\u001b[1;31mNameError\u001b[0m: name 'constants' is not defined"
     ]
    }
   ],
   "metadata": {}
  },
  {
   "cell_type": "code",
   "execution_count": null,
   "source": [
    "# propellant mass flow rates\r\n",
    "m_dot_kgps = F_thrust_N / v_exhaust_mps\r\n",
    "m_dot_fuel_kgps = m_dot_kgps / (1 + r_of_mass)\r\n",
    "m_dot_ox_kgps = r_of_mass * m_dot_fuel_kgps\r\n",
    "\r\n",
    "print('Propellant flow rates')\r\n",
    "print(f'Total: {m_dot_kgps:.3f}kg/s Fuel: {m_dot_fuel_kgps:.3f}kg/s Oxidizer: {m_dot_ox_kgps:.3f}kg/s')\r\n"
   ],
   "outputs": [
    {
     "output_type": "stream",
     "name": "stdout",
     "text": [
      "Propellant flow rates\n",
      "Total: 1.140kg/s Fuel: 0.400kg/s Oxidizer: 0.740kg/s\n"
     ]
    }
   ],
   "metadata": {}
  },
  {
   "cell_type": "code",
   "execution_count": null,
   "source": [
    "# engine cross-sectional areas\r\n",
    "r_A_diverging = expansion_ratio(gamma_exhaust, P_chamber_bar, P_ambient_bar)\r\n",
    "A_throat_m2 = throat_area(gamma_exhaust, M_exhaust_kgpkmol, m_dot_kgps, T_chamber_K, P_chamber_bar)\r\n",
    "A_exit_m2 = A_throat_m2 * r_A_diverging\r\n",
    "A_chamber_m2 = A_throat_m2 * r_A_converging\r\n",
    "\r\n",
    "def radius(area):\r\n",
    "    return np.sqrt(area / np.pi)\r\n",
    "\r\n",
    "# engine dimensions\r\n",
    "r_chamber_m = radius(A_chamber_m2)\r\n",
    "r_throat_m = radius(A_throat_m2)\r\n",
    "r_exit_m = radius(A_exit_m2)\r\n",
    "\r\n",
    "print(f'Chamber radius: {r_chamber_m*1000:.1f}mm. Throat: {r_throat_m*1e3:.1f}mm. Exit: {r_exit_m*1e3:.1f}mm')\r\n",
    "\r\n",
    "L_diverging_m = cone_length(r_throat_m, r_exit_m, theta_diverging_deg)\r\n",
    "L_converging_m = cone_length(r_throat_m, r_chamber_m, theta_converging_deg)\r\n",
    "\r\n",
    "print(f'Converging length: {L_converging_m*1e3:.1f}mm. Diverging: {L_diverging_m*1e3:.1f}mm.')\r\n",
    "\r\n",
    "V_chamber_m3 = A_throat_m2 * L_char_m\r\n",
    "L_chamber_m = chamber_length(V_chamber_m3, L_converging_m, A_chamber_m2, A_throat_m2)\r\n",
    "\r\n",
    "print(f'Chamber volume for given characteristic length: {V_chamber_m3*1e6:.1f}cm^3')\r\n",
    "print(f'Chamber length: {L_chamber_m*1e3:.1f}mm')"
   ],
   "outputs": [
    {
     "output_type": "stream",
     "name": "stdout",
     "text": [
      "Chamber radius: 41.1mm. Throat: 14.5mm. Exit: 30.8mm\n",
      "Converging length: 26.6mm. Diverging: 44.6mm.\n",
      "Chamber volume for given characteristic length: 861.8cm^3\n",
      "Chamber length: 123.2mm\n"
     ]
    }
   ],
   "metadata": {}
  },
  {
   "cell_type": "code",
   "execution_count": null,
   "source": [
    "# draw nozzle diagram to give an idea of proportions\r\n",
    "%matplotlib inline\r\n",
    "fig=plt.figure(figsize=(20,10))\r\n",
    "ax=fig.add_subplot()\r\n",
    "pts=[(0,r_chamber_m), (L_chamber_m,r_chamber_m), (L_chamber_m+L_converging_m,r_throat_m), (L_chamber_m+L_converging_m+L_diverging_m, r_exit_m)]\r\n",
    "xs, ys = zip(*pts)\r\n",
    "neg_ys = [-y for y in ys]\r\n",
    "ax.set_aspect('equal', 'box')\r\n",
    "ax.spines.bottom.set_position('zero')\r\n",
    "ax.plot(xs,ys,'b',xs,neg_ys,'b')"
   ],
   "outputs": [
    {
     "output_type": "execute_result",
     "data": {
      "text/plain": [
       "[<matplotlib.lines.Line2D at 0x2d87fa471f0>,\n",
       " <matplotlib.lines.Line2D at 0x2d87fa47220>]"
      ]
     },
     "metadata": {},
     "execution_count": 9
    },
    {
     "output_type": "display_data",
     "data": {
      "image/png": "[encoded data removed]",
      "text/plain": [
       "<Figure size 1440x720 with 1 Axes>"
      ]
     },
     "metadata": {
      "needs_background": "light"
     }
    }
   ],
   "metadata": {}
  },
  {
   "cell_type": "markdown",
   "source": [
    "## Injector"
   ],
   "metadata": {}
  },
  {
   "cell_type": "code",
   "execution_count": null,
   "source": [
    "#input parameters\r\n",
    "dP_injector_ox_bar = 5 #pressure drop in ox. inj.\r\n",
    "Cd_injector_ox = 0.7 #discharge coefficient in ox inj.\r\n",
    "n_injectors_ox = 8\r\n",
    "\r\n",
    "dP_injector_fuel_bar = 5"
   ],
   "outputs": [],
   "metadata": {}
  },
  {
   "cell_type": "code",
   "execution_count": null,
   "source": [
    "def injector_area(mdot, Cd, rho, delta_P):\r\n",
    "    '''returns total area of injector required to achieve a given mass flow rate,\r\n",
    "    given Cd for injector, density of fuel, and pressure drop across injector.\r\n",
    "    assumes incompressible fluid flow through a hydraulic orifice (perhaps unreasonable for our oxidiser, GOX...)'''\r\n",
    "    return mdot / Cd / np.sqrt(2 * rho * delta_P * 1e5)"
   ],
   "outputs": [],
   "metadata": {}
  },
  {
   "cell_type": "code",
   "execution_count": null,
   "source": [
    "# fuel injector\r\n",
    "# fuel volume flow rate, used to pick a spray nozzle part\r\n",
    "V_dot_fuel_m3ps = m_dot_fuel_kgps / rho_fuel_kgpm3\r\n",
    "P_fuel_injector_bar = P_chamber_bar + dP_injector_fuel_bar\r\n",
    "print(f'Fuel volume flow rate: {V_dot_fuel_m3ps*1e3:.3f}L/s')\r\n"
   ],
   "outputs": [
    {
     "output_type": "stream",
     "name": "stdout",
     "text": [
      "Fuel volume flow rate: 0.494L/s\n"
     ]
    }
   ],
   "metadata": {}
  },
  {
   "cell_type": "code",
   "execution_count": null,
   "source": [
    "# oxidiser injector\r\n",
    "# lookup oxidiser density at injector inlet using CoolProp\r\n",
    "ox = thermo.chemical.Chemical(ox_chem)\r\n",
    "ox.calculate(T=T_initial_ox_K, P=P_chamber_bar*constants.bar)\r\n",
    "rho_ox_chamber_kgpm3 = ox.rho\r\n",
    "ox.calculate(T=T_initial_ox_K, P=P_initial_ox_bar*constants.bar)\r\n",
    "rho_ox_tank_kgpm3 = ox.rho\r\n",
    "ox.calculate(T=T_initial_ox_K, P=P_std_bar*constants.bar)\r\n",
    "rho_ox_std_kgpm3 = ox.rho\r\n",
    "\r\n",
    "P_ox_injector_bar = P_chamber_bar + dP_injector_ox_bar\r\n",
    "\r\n",
    "V_dot_injector_ox_m3ps = m_dot_ox_kgps / rho_ox_chamber_kgpm3\r\n",
    "V_dot_tank_ox_m3ps = m_dot_ox_kgps/rho_ox_tank_kgpm3\r\n",
    "print(f'Oxidiser volume flow rate: {V_dot_injector_ox_m3ps*1e3:.3f}L/s ({V_dot_tank_ox_m3ps*1e3:.3f}L/s exiting tank)')\r\n",
    "V_dot_ox_stdft3ps = (m_dot_ox_kgps / rho_ox_std_kgpm3) / constants.foot**3\r\n",
    "print(f'Oxidiser flow, std. ft^3/s: {V_dot_ox_stdft3ps:.1f}')\r\n",
    "\r\n",
    "# injector area\r\n",
    "A_injector_ox_m2 = injector_area(\r\n",
    "    m_dot_ox_kgps,\r\n",
    "    Cd_injector_ox,\r\n",
    "    rho_ox_chamber_kgpm3,\r\n",
    "    dP_injector_ox_bar)\r\n",
    "print(f'Total ox. injector area: {A_injector_ox_m2*1e4:.2f}cm^2')\r\n",
    "r_injector_ox_m = np.sqrt(A_injector_ox_m2/np.pi/n_injectors_ox)\r\n",
    "print(f'Radius of the {n_injectors_ox} ox. injectors: {r_injector_ox_m*1e3:.2f}mm')"
   ],
   "outputs": [
    {
     "output_type": "stream",
     "name": "stdout",
     "text": [
      "Oxidiser volume flow rate: 18.607L/s (2.650L/s exiting tank)\n",
      "Oxidiser flow, std. ft^3/s: 20.0\n",
      "Total ox. injector area: 1.68cm^2\n",
      "Radius of the 8 ox. injectors: 2.58mm\n"
     ]
    }
   ],
   "metadata": {}
  },
  {
   "cell_type": "markdown",
   "source": [
    "## Propellant tanks"
   ],
   "metadata": {}
  },
  {
   "cell_type": "code",
   "execution_count": null,
   "source": [
    "V_cylinder_stdft3 = 250\r\n",
    "#volume of a K size cylinder, standard cubic feet (SCF)\r\n",
    "# (specified by the volume of the gas contained if it were at standard conditions)\r\n",
    "\r\n",
    "m_fuel_kg = m_dot_fuel_kgps * dt_burn_s\r\n",
    "print(f'{dt_burn_s}s burn consumes {m_fuel_kg:.1f}kg fuel.')\r\n",
    "\r\n",
    "V_fuel_tank_m3 = V_dot_fuel_m3ps * dt_burn_s\r\n",
    "print(f'Volume of fuel consumed: {V_fuel_tank_m3*1e3:.1f}L')\r\n",
    "\r\n",
    "press = thermo.chemical.Chemical(press_chem)\r\n",
    "press.calculate(T=T_std_K, P=P_std_bar * constants.bar)\r\n",
    "rho_press_std_kgpm3 = press.rho\r\n",
    "press.calculate(T=T_initial_fuel_K, P=P_fuel_tank_bar * constants.bar)\r\n",
    "rho_press_tank_kgpm3 = press.rho\r\n",
    "\r\n",
    "V_dot_press_stdft3ps = V_dot_fuel_m3ps * rho_press_tank_kgpm3 / rho_press_std_kgpm3 \\\r\n",
    "    / constants.foot**3\r\n",
    "V_press_stdft3 = V_dot_press_stdft3ps * dt_burn_s\r\n",
    "\r\n",
    "print(f'Presurant flow is {V_dot_press_stdft3ps:.2f} SCF/s, total of {V_press_stdft3:.1f} SCF consumed ({V_press_stdft3/V_cylinder_stdft3:.0%} of a {V_cylinder_stdft3}SCF cylinder)')"
   ],
   "outputs": [
    {
     "output_type": "stream",
     "name": "stdout",
     "text": [
      "30s burn consumes 12.0kg fuel.\n",
      "Volume of fuel consumed: 14.8L\n",
      "Presurant flow is 0.68 SCF/s, total of 20.3 SCF consumed (8% of a 250SCF cylinder)\n"
     ]
    }
   ],
   "metadata": {}
  },
  {
   "cell_type": "code",
   "execution_count": null,
   "source": [
    "m_ox_kg = m_dot_ox_kgps * dt_burn_s\r\n",
    "print(f'{dt_burn_s}s burn consumes {m_ox_kg:.1f}kg oxidizer.')\r\n",
    "V_ox_tank_m3 = V_dot_tank_ox_m3ps * dt_burn_s\r\n",
    "print(f'(approx.) Oxidiser tank volume: {V_ox_tank_m3*1e3:.1f}L')\r\n",
    "V_ox_stdft3=V_dot_ox_stdft3ps*dt_burn_s\r\n",
    "print(f'Oxidiser tank SCF (std. ft^3): {V_ox_stdft3:.1f}')\r\n",
    "print(f'Requires {V_ox_stdft3/V_cylinder_stdft3:.1f}x {V_cylinder_stdft3}SCF cylinders')"
   ],
   "outputs": [
    {
     "output_type": "stream",
     "name": "stdout",
     "text": [
      "30s burn consumes 22.2kg oxidizer.\n",
      "(approx.) Oxidiser tank volume: 79.5L\n",
      "Oxidiser tank SCF (std. ft^3): 598.5\n",
      "Requires 2.4x 250SCF cylinders\n"
     ]
    }
   ],
   "metadata": {}
  },
  {
   "cell_type": "markdown",
   "source": [
    "## Valves"
   ],
   "metadata": {}
  },
  {
   "cell_type": "code",
   "execution_count": null,
   "source": [
    "# Main fuel valve\r\n",
    "P1 = P_fuel_tank_bar*constants.bar  # before valve\r\n",
    "P2 = P_fuel_injector_bar*constants.bar  # after valve\r\n",
    "\r\n",
    "# approx. fuel with gasoline (octane) for now\r\n",
    "# approx. pressure in valve as midway between pressure before and after valve\r\n",
    "fuel = thermo.chemical.Chemical('C8H18', T=T_initial_fuel_K, P=(P1+P2)/2)\r\n",
    "Cv_main_fuel = fluids.Kv_to_Cv(fluids.size_control_valve_l(rho=rho_fuel_kgpm3,\r\n",
    "                                                           Psat=fuel.Psat,\r\n",
    "                                                           Pc=fuel.Pc,\r\n",
    "                                                           mu=fuel.mu,\r\n",
    "                                                           P1=P1,\r\n",
    "                                                           P2=P2,\r\n",
    "                                                           Q=V_dot_fuel_m3ps))\r\n",
    "print(f'Min. Cv for main fuel valve: {Cv_main_fuel:.2f}')\r\n",
    "\r\n",
    "# Main oxidiser valve\r\n",
    "P1 = P_initial_ox_bar*constants.bar\r\n",
    "P2 = P_ox_injector_bar*constants.bar\r\n",
    "\r\n",
    "frac_dP_ox_valve = 0.5 #how much of pressure drop from tank to injector occurs in ox valve?\r\n",
    "P2 += (P1-P2) * (1-frac_dP_ox_valve)\r\n",
    "\r\n",
    "ox.calculate(T=T_initial_ox_K, P=(P1+P2)/2)\r\n",
    "Cv_main_ox = fluids.Kv_to_Cv(fluids.size_control_valve_g(T=T_initial_ox_K,\r\n",
    "                                                         MW=ox.MW,\r\n",
    "                                                         mu=0, # thermo lib won't give a viscosity for ideal gas?\r\n",
    "                                                         gamma=ox.isentropic_exponent,\r\n",
    "                                                         Z=ox.Z,\r\n",
    "                                                         P1=P1,\r\n",
    "                                                         P2=P2,\r\n",
    "                                                         Q=V_dot_ox_stdft3ps * (constants.foot**3)))\r\n",
    "\r\n",
    "print(f'for main ox valve: {Cv_main_ox:.2f}')\r\n",
    "\r\n",
    "\r\n"
   ],
   "outputs": [
    {
     "output_type": "stream",
     "name": "stdout",
     "text": [
      "Min. Cv for main fuel valve: 0.83\n",
      "for main ox valve: 0.87\n"
     ]
    }
   ],
   "metadata": {}
  },
  {
   "cell_type": "markdown",
   "source": [
    "## Piping"
   ],
   "metadata": {}
  },
  {
   "cell_type": "code",
   "execution_count": null,
   "source": [
    "#rough calculation of piping diameter required\r\n",
    "\r\n",
    "fluids.isothermal_gas(rho=rho_ox_tank_kgpm3, P1=P_initial_ox_bar, P2=P)"
   ],
   "outputs": [
    {
     "output_type": "error",
     "ename": "NameError",
     "evalue": "name 'P' is not defined",
     "traceback": [
      "\u001b[1;31m---------------------------------------------------------------------------\u001b[0m",
      "\u001b[1;31mNameError\u001b[0m                                 Traceback (most recent call last)",
      "\u001b[1;32m~\\AppData\\Local\\Temp/ipykernel_16160/3577627533.py\u001b[0m in \u001b[0;36m<module>\u001b[1;34m\u001b[0m\n\u001b[0;32m      1\u001b[0m \u001b[1;31m#rough calculation of piping diameter required\u001b[0m\u001b[1;33m\u001b[0m\u001b[1;33m\u001b[0m\u001b[0m\n\u001b[0;32m      2\u001b[0m \u001b[1;33m\u001b[0m\u001b[0m\n\u001b[1;32m----> 3\u001b[1;33m \u001b[0mfluids\u001b[0m\u001b[1;33m.\u001b[0m\u001b[0misothermal_gas\u001b[0m\u001b[1;33m(\u001b[0m\u001b[0mrho\u001b[0m\u001b[1;33m=\u001b[0m\u001b[0mrho_ox_tank_kgpm3\u001b[0m\u001b[1;33m,\u001b[0m \u001b[0mP1\u001b[0m\u001b[1;33m=\u001b[0m\u001b[0mP_initial_ox_bar\u001b[0m\u001b[1;33m,\u001b[0m \u001b[0mP2\u001b[0m\u001b[1;33m=\u001b[0m\u001b[0mP\u001b[0m\u001b[1;33m)\u001b[0m\u001b[1;33m\u001b[0m\u001b[1;33m\u001b[0m\u001b[0m\n\u001b[0m",
      "\u001b[1;31mNameError\u001b[0m: name 'P' is not defined"
     ]
    }
   ],
   "metadata": {}
  }
 ],
 "metadata": {
  "orig_nbformat": 4,
  "language_info": {
   "name": "python",
   "version": "3.9.7",
   "mimetype": "text/x-python",
   "codemirror_mode": {
    "name": "ipython",
    "version": 3
   },
   "pygments_lexer": "ipython3",
   "nbconvert_exporter": "python",
   "file_extension": ".py"
  },
  "kernelspec": {
   "name": "python3",
   "display_name": "Python 3.9.7 64-bit (windows store)"
  },
  "interpreter": {
   "hash": "6807f5e89d37fb75e980cd52e929d6c23efc30736063300096196f9a39371be6"
  }
 },
 "nbformat": 4,
 "nbformat_minor": 2
}