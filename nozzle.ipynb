{
 "cells": [
  {
   "cell_type": "markdown",
   "source": [
    "# Engine Design Calculations"
   ],
   "metadata": {}
  },
  {
   "cell_type": "code",
   "execution_count": 1,
   "source": [
    "from matplotlib import pyplot as plt\r\n",
    "from lib import cea, nozzle, injector\r\n",
    "import numpy as np\r\n",
    "import pyromat as pm"
   ],
   "outputs": [],
   "metadata": {}
  },
  {
   "cell_type": "markdown",
   "source": [
    "## Initial parameters"
   ],
   "metadata": {}
  },
  {
   "cell_type": "code",
   "execution_count": 2,
   "source": [
    "equilibrium = True\r\n",
    "\r\n",
    "fuel_chems = ('JP-5',) #allows specifying a mixture of chemicals in the fuel\r\n",
    "fuel_percs = (100,) #see the CEA docs for which formula strings will work\r\n",
    "rho_fuel_kgpm3 = 810\r\n",
    "T_initial_fuel_K = 298\r\n",
    "\r\n",
    "ox_chem = 'O2'\r\n",
    "T_initial_ox_K = 298\r\n",
    "P_initial_ox_bar = 200\r\n",
    "\r\n",
    "r_of_mass = 1.85\r\n",
    "L_char_m = 1.3 #combustion characteristic length\r\n",
    "\r\n",
    "F_thrust_N = 3000 # thas right.\r\n",
    "dt_burn_s = 30 #max. burn time (for test stand run duration)\r\n",
    "P_chamber_bar = 30\r\n",
    "P_ambient_bar = 1.013\r\n",
    "\r\n",
    "T_std_K = 289 #60degF is standard conditions for finding SCFM flow rate\r\n",
    "P_std_bar = 1.013 #1atm is ..."
   ],
   "outputs": [],
   "metadata": {}
  },
  {
   "cell_type": "markdown",
   "source": [
    "## Combustion analysis"
   ],
   "metadata": {}
  },
  {
   "cell_type": "code",
   "execution_count": 3,
   "source": [
    "#setup input data\r\n",
    "cea_inp = cea.CEAInputData()\r\n",
    "cea_inp.equilibrium = equilibrium\r\n",
    "cea_inp.fuel_chems = fuel_chems\r\n",
    "cea_inp.fuel_chem_mass_percs = fuel_percs\r\n",
    "cea_inp.ox_chem = ox_chem\r\n",
    "cea_inp.fuel_initial_temp = T_initial_fuel_K\r\n",
    "cea_inp.ox_initial_temp = T_initial_ox_K\r\n",
    "cea_inp.pcham = P_chamber_bar\r\n",
    "cea_inp.pamb = P_ambient_bar\r\n",
    "\r\n",
    "#run CEA\r\n",
    "cea.create_inp_file(cea_inp)\r\n",
    "cea.run_executable()\r\n",
    "out = cea.parse_out_file()\r\n",
    "\r\n",
    "#setup output data\r\n",
    "T_chamber_K = out.chamber_temp\r\n",
    "v_exhaust_mps = out.exhaust_velocity\r\n",
    "c_star_mps = out.cstar\r\n",
    "gamma_exhaust = out.exhaust_gamma\r\n",
    "M_exhaust_kgpkmol = out.exhaust_molar_mass\r\n",
    "\r\n",
    "print(f'Exhaust speed: {v_exhaust_mps:.1f}m/s (specific impulse of {v_exhaust_mps/9.81:.1f}s)')\r\n",
    "print(f'Exhaust properties: gamma={gamma_exhaust}, M={M_exhaust_kgpkmol}kg/kmol')\r\n",
    "print(f'Chamber temperature: {T_chamber_K:.1f}K')"
   ],
   "outputs": [
    {
     "output_type": "stream",
     "name": "stdout",
     "text": [
      "Exhaust speed: 2087.2m/s (specific impulse of 212.8s)\n",
      "Exhaust properties: gamma=1.133, M=17.073kg/kmol\n",
      "Chamber temperature: 1601.1K\n"
     ]
    }
   ],
   "metadata": {}
  },
  {
   "cell_type": "markdown",
   "source": [
    "## Nozzle & chamber"
   ],
   "metadata": {}
  },
  {
   "cell_type": "code",
   "execution_count": 4,
   "source": [
    "#input parameters\r\n",
    "r_A_converging = 8 #converging section area ratio (chamber area / throat area)\r\n",
    "theta_diverging_deg = 20\r\n",
    "theta_converging_deg = 45"
   ],
   "outputs": [],
   "metadata": {}
  },
  {
   "cell_type": "code",
   "execution_count": 5,
   "source": [
    "# check CEA values using simpler calc. of performance\r\n",
    "v_exhaust_isentropic_mps = nozzle.exhaust_velocity(\r\n",
    "    gamma_exhaust, M_exhaust_kgpkmol, T_chamber_K, P_chamber_bar, P_ambient_bar)\r\n",
    "if abs(v_exhaust_isentropic_mps - v_exhaust_mps) > 5:\r\n",
    "    print('CEA and isentropic velocity calcs don\\'t match. uh oh')\r\n",
    "    print(f'Isentropic exhaust vel: {v_exhaust_isentropic_mps} m/s')\r\n",
    "else:\r\n",
    "    print('CEA and simplified velocity calcs match. good')"
   ],
   "outputs": [
    {
     "output_type": "stream",
     "name": "stdout",
     "text": [
      "CEA and simplified velocity calcs match. good\n"
     ]
    }
   ],
   "metadata": {}
  },
  {
   "cell_type": "code",
   "execution_count": 6,
   "source": [
    "# propellant mass flow rates\r\n",
    "m_dot_kgps = F_thrust_N / v_exhaust_mps\r\n",
    "m_dot_fuel_kgps = m_dot_kgps / (1 + r_of_mass)\r\n",
    "m_dot_ox_kgps = r_of_mass * m_dot_fuel_kgps\r\n",
    "\r\n",
    "print('Propellant flow rates')\r\n",
    "print(f'Total: {m_dot_kgps:.3f}kg/s Fuel: {m_dot_fuel_kgps:.3f}kg/s Oxidizer: {m_dot_ox_kgps:.3f}kg/s')\r\n"
   ],
   "outputs": [
    {
     "output_type": "stream",
     "name": "stdout",
     "text": [
      "Propellant flow rates\n",
      "Total: 1.437kg/s Fuel: 0.504kg/s Oxidizer: 0.933kg/s\n"
     ]
    }
   ],
   "metadata": {}
  },
  {
   "cell_type": "code",
   "execution_count": 7,
   "source": [
    "# engine cross-sectional areas\r\n",
    "r_A_diverging = nozzle.expansion_ratio(gamma_exhaust, P_chamber_bar, P_ambient_bar)\r\n",
    "A_throat_m2 = nozzle.throat_area(gamma_exhaust, M_exhaust_kgpkmol, m_dot_kgps, T_chamber_K, P_chamber_bar)\r\n",
    "A_exit_m2 = A_throat_m2 * r_A_diverging\r\n",
    "A_chamber_m2 = A_throat_m2 * r_A_converging\r\n",
    "\r\n",
    "def radius(area):\r\n",
    "    return np.sqrt(area / np.pi)\r\n",
    "\r\n",
    "# engine dimensions\r\n",
    "r_chamber_m = radius(A_chamber_m2)\r\n",
    "r_throat_m = radius(A_throat_m2)\r\n",
    "r_exit_m = radius(A_exit_m2)\r\n",
    "\r\n",
    "print(f'Chamber radius: {r_chamber_m*1000:.1f}mm. Throat: {r_throat_m*1e3:.1f}mm. Exit: {r_exit_m*1e3:.1f}mm')\r\n",
    "\r\n",
    "L_diverging_m = nozzle.cone_length(r_throat_m, r_exit_m, theta_diverging_deg)\r\n",
    "L_converging_m = nozzle.cone_length(r_throat_m, r_chamber_m, theta_converging_deg)\r\n",
    "\r\n",
    "print(f'Converging length: {L_converging_m*1e3:.1f}mm. Diverging: {L_diverging_m*1e3:.1f}mm.')\r\n",
    "\r\n",
    "V_chamber_m3 = A_throat_m2 * L_char_m\r\n",
    "L_chamber_m = nozzle.chamber_length(V_chamber_m3, L_converging_m, A_chamber_m2, A_throat_m2)\r\n",
    "\r\n",
    "print(f'Chamber volume for given characteristic length: {V_chamber_m3*1e6:.1f}cm^3')\r\n",
    "print(f'Chamber length: {L_chamber_m*1e3:.1f}mm')"
   ],
   "outputs": [
    {
     "output_type": "stream",
     "name": "stdout",
     "text": [
      "Chamber radius: 41.2mm. Throat: 14.6mm. Exit: 33.7mm\n",
      "Converging length: 26.6mm. Diverging: 52.5mm.\n",
      "Chamber volume for given characteristic length: 865.9cm^3\n",
      "Chamber length: 123.1mm\n"
     ]
    }
   ],
   "metadata": {}
  },
  {
   "cell_type": "code",
   "execution_count": 8,
   "source": [
    "# draw nozzle diagram to give an idea of proportions\r\n",
    "%matplotlib inline\r\n",
    "fig=plt.figure(figsize=(20,10))\r\n",
    "ax=fig.add_subplot()\r\n",
    "pts=[(0,r_chamber_m), (L_chamber_m,r_chamber_m), (L_chamber_m+L_converging_m,r_throat_m), (L_chamber_m+L_converging_m+L_diverging_m, r_exit_m)]\r\n",
    "xs, ys = zip(*pts)\r\n",
    "neg_ys = [-y for y in ys]\r\n",
    "ax.set_aspect('equal', 'box')\r\n",
    "ax.spines.bottom.set_position('zero')\r\n",
    "ax.plot(xs,ys,'b',xs,neg_ys,'b')"
   ],
   "outputs": [
    {
     "output_type": "execute_result",
     "data": {
      "text/plain": [
       "[<matplotlib.lines.Line2D at 0x14c3c748940>,\n",
       " <matplotlib.lines.Line2D at 0x14c3c748970>]"
      ]
     },
     "metadata": {},
     "execution_count": 8
    },
    {
     "output_type": "display_data",
     "data": {
      "text/plain": [
       "<Figure size 1440x720 with 1 Axes>"
      ],
      "image/png": "[encoded data removed]"
     },
     "metadata": {
      "needs_background": "light"
     }
    }
   ],
   "metadata": {}
  },
  {
   "cell_type": "markdown",
   "source": [
    "## Injector"
   ],
   "metadata": {}
  },
  {
   "cell_type": "code",
   "execution_count": 9,
   "source": [
    "#input parameters\r\n",
    "dP_injector_ox_bar = 5 #pressure drop in ox. inj.\r\n",
    "Cd_injector_ox = 0.7 #discharge coefficient in ox inj.\r\n",
    "n_injectors_ox = 8"
   ],
   "outputs": [],
   "metadata": {}
  },
  {
   "cell_type": "code",
   "execution_count": 10,
   "source": [
    "# fuel injector\r\n",
    "# fuel volume flow rate, used to pick a spray nozzle part\r\n",
    "V_dot_fuel_m3ps = m_dot_fuel_kgps / rho_fuel_kgpm3\r\n",
    "print(f'Fuel volume flow rate: {V_dot_fuel_m3ps*1e3:.3f}L/s')\r\n"
   ],
   "outputs": [
    {
     "output_type": "stream",
     "name": "stdout",
     "text": [
      "Fuel volume flow rate: 0.623L/s\n"
     ]
    }
   ],
   "metadata": {}
  },
  {
   "cell_type": "code",
   "execution_count": 11,
   "source": [
    "# oxidiser injector\r\n",
    "# lookup oxidiser density at injector inlet using CoolProp\r\n",
    "ox = pm.get('ig.'+ox_chem)\r\n",
    "rho_ox_chamber_kgpm3 = float(ox.d(T=T_initial_ox_K, p=P_chamber_bar))\r\n",
    "rho_ox_tank_kgpm3 = float(ox.d(T=T_initial_ox_K, p=P_initial_ox_bar))\r\n",
    "rho_ox_std_kgpm3 = float(ox.d(T=T_std_K, p=P_std_bar))\r\n",
    "\r\n",
    "V_dot_injector_ox_m3ps = m_dot_ox_kgps / rho_ox_chamber_kgpm3\r\n",
    "V_dot_tank_ox_m3ps = m_dot_ox_kgps/rho_ox_tank_kgpm3\r\n",
    "print(f'Oxidiser volume flow rate: {V_dot_injector_ox_m3ps*1e3:.3f}L/s ({V_dot_tank_ox_m3ps*1e3:.3f}L/s exiting tank)')\r\n",
    "V_dot_ox_stdft3ps = (m_dot_ox_kgps / rho_ox_std_kgpm3) * 35.315\r\n",
    "print(f'Oxidiser flow, std. ft^3/s: {V_dot_ox_stdft3ps:.1f}')\r\n",
    "\r\n",
    "# injector area\r\n",
    "A_injector_ox_m2 = injector.injector_area(\r\n",
    "    m_dot_ox_kgps,\r\n",
    "    Cd_injector_ox,\r\n",
    "    rho_ox_chamber_kgpm3,\r\n",
    "    dP_injector_ox_bar)\r\n",
    "print(f'Total ox. injector area: {A_injector_ox_m2*1e4:.2f}cm^2')\r\n",
    "r_injector_ox_m = np.sqrt(A_injector_ox_m2/np.pi/n_injectors_ox)\r\n",
    "print(f'Radius of each ox. injector hole: {r_injector_ox_m*1e3:.2f}mm')"
   ],
   "outputs": [
    {
     "output_type": "stream",
     "name": "stdout",
     "text": [
      "Oxidiser volume flow rate: 24.081L/s (3.612L/s exiting tank)\n",
      "Oxidiser flow, std. ft^3/s: 24.4\n",
      "Total ox. injector area: 2.14cm^2\n",
      "Radius of each ox. injector hole: 2.92mm\n"
     ]
    }
   ],
   "metadata": {}
  },
  {
   "cell_type": "markdown",
   "source": [
    "## Propellant tanks"
   ],
   "metadata": {}
  },
  {
   "cell_type": "code",
   "execution_count": 13,
   "source": [
    "m_fuel_kg = m_dot_fuel_kgps * dt_burn_s\r\n",
    "m_ox_kg = m_dot_ox_kgps * dt_burn_s\r\n",
    "print(f'{dt_burn_s}s burn consumes {m_fuel_kg:.1f}kg fuel and {m_ox_kg:.1f}kg oxidizer.')\r\n",
    "\r\n",
    "V_fuel_tank_m3 = m_fuel_kg / rho_fuel_kgpm3\r\n",
    "print(f'Fuel tank volume: {V_fuel_tank_m3*1e3:.1f}L')\r\n",
    "\r\n",
    "V_ox_tank_m3 = m_ox_kg / rho_ox_tank_kgpm3\r\n",
    "print(f'(approx.) Oxidiser tank volume: {V_ox_tank_m3*1e3:.1f}L')\r\n",
    "\r\n",
    "print(f'Oxidiser tank SCF (std. ft^3): {V_dot_ox_stdft3ps*dt_burn_s:.1f}')"
   ],
   "outputs": [
    {
     "output_type": "stream",
     "name": "stdout",
     "text": [
      "30s burn consumes 15.1kg fuel and 28.0kg oxidizer.\n",
      "Fuel tank volume: 18.7L\n",
      "(approx.) Oxidiser tank volume: 108.4L\n",
      "Oxidiser tank SCF (std. ft^3): 12.2\n"
     ]
    }
   ],
   "metadata": {}
  }
 ],
 "metadata": {
  "orig_nbformat": 4,
  "language_info": {
   "name": "python"
  }
 },
 "nbformat": 4,
 "nbformat_minor": 2
}