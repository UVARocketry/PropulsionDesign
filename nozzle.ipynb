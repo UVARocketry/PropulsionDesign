{
 "cells": [
  {
   "cell_type": "markdown",
   "metadata": {},
   "source": [
    "# Engine Design Calculations"
   ]
  },
  {
   "cell_type": "code",
   "execution_count": 1,
   "metadata": {},
   "outputs": [],
   "source": [
    "from matplotlib import pyplot as plt\n",
    "from lib import cea\n",
    "from lib.nozzle import *\n",
    "import numpy as np\n",
    "from scipy import constants\n",
    "import thermo\n",
    "import fluids"
   ]
  },
  {
   "cell_type": "markdown",
   "metadata": {},
   "source": [
    "## Initial parameters"
   ]
  },
  {
   "cell_type": "code",
   "execution_count": 2,
   "metadata": {},
   "outputs": [],
   "source": [
    "equilibrium = True\n",
    "\n",
    "fuel_chems = ('JP-5',) #allows specifying a mixture of chemicals in the fuel\n",
    "fuel_percs = (100,) #see the CEA docs for which formula strings will work\n",
    "rho_fuel_kgpm3 = 810\n",
    "press_chem='N2' #pressurant to use\n",
    "P_press_initial_bar = 200\n",
    "T_initial_fuel_K = 298\n",
    "\n",
    "ox_chem = 'O2'\n",
    "T_initial_ox_K = 298\n",
    "P_initial_ox_bar = 200\n",
    "\n",
    "r_of_mass = 1.85\n",
    "L_char_m = 1.3 #combustion characteristic length\n",
    "\n",
    "F_thrust_N = 3000 # thas right.\n",
    "dt_burn_s = 30 #max. burn time (for test stand run duration)\n",
    "P_chamber_bar = 30\n",
    "P_ambient_bar = 1.013\n",
    "\n",
    "T_std_K = 289 #60degF is standard conditions for finding SCFM flow rate\n",
    "P_std_bar = 1.013 #1atm is ...\n",
    "P_fuel_tank_bar = 40"
   ]
  },
  {
   "cell_type": "markdown",
   "metadata": {},
   "source": [
    "## Combustion analysis"
   ]
  },
  {
   "cell_type": "code",
   "execution_count": 3,
   "metadata": {},
   "outputs": [
    {
     "name": "stdout",
     "output_type": "stream",
     "text": [
      "cstar=1793.5m/s\n",
      "Exhaust speed: 2632.3m/s (specific impulse of 268.3s)\n",
      "Throat gas properties: gamma=1.1891, M=20.048kg/kmol\n",
      "Chamber temperature: 3207.3K\n"
     ]
    }
   ],
   "source": [
    "#setup input data\n",
    "cea_inp = cea.CEAInputData()\n",
    "cea_inp.equilibrium = equilibrium\n",
    "cea_inp.fuel_chems = fuel_chems\n",
    "cea_inp.fuel_chem_mass_percs = fuel_percs\n",
    "cea_inp.ox_chem = ox_chem\n",
    "cea_inp.fuel_initial_temp = T_initial_fuel_K\n",
    "cea_inp.ox_initial_temp = T_initial_ox_K\n",
    "cea_inp.pcham = P_chamber_bar\n",
    "cea_inp.pamb = P_ambient_bar\n",
    "cea_inp.of=r_of_mass\n",
    "\n",
    "#run CEA\n",
    "cea.create_inp_file(cea_inp)\n",
    "cea.run_executable()\n",
    "out = cea.parse_out_file()\n",
    "\n",
    "#setup output data\n",
    "T_chamber_K = out.chamber_temp\n",
    "v_exhaust_mps = out.exhaust_velocity\n",
    "c_star_mps = out.cstar\n",
    "gamma_throat = out.throat_gamma\n",
    "M_throat_kgpkmol = out.throat_molar_mass\n",
    "\n",
    "print(f'cstar={c_star_mps:.1f}m/s')\n",
    "print(f'Exhaust speed: {v_exhaust_mps:.1f}m/s (specific impulse of {v_exhaust_mps/9.81:.1f}s)')\n",
    "print(f'Throat gas properties: gamma={gamma_throat}, M={M_throat_kgpkmol}kg/kmol')\n",
    "print(f'Chamber temperature: {T_chamber_K:.1f}K')"
   ]
  },
  {
   "cell_type": "markdown",
   "metadata": {},
   "source": [
    "## Nozzle & chamber"
   ]
  },
  {
   "cell_type": "code",
   "execution_count": 4,
   "metadata": {},
   "outputs": [],
   "source": [
    "#input parameters\n",
    "r_A_converging = 8 #converging section area ratio (chamber area / throat area)\n",
    "theta_diverging_deg = 20\n",
    "theta_converging_deg = 45"
   ]
  },
  {
   "cell_type": "code",
   "execution_count": 5,
   "metadata": {},
   "outputs": [
    {
     "name": "stdout",
     "output_type": "stream",
     "text": [
      "CEA and simplified velocity calcs match. good\n",
      "Isentropic exhaust vel: 2639.8377689425174 m/s\n"
     ]
    }
   ],
   "source": [
    "# check CEA values using simpler calc. of performance\n",
    "v_exhaust_isentropic_mps = exhaust_velocity(\n",
    "    gamma_throat, M_throat_kgpkmol, T_chamber_K, P_chamber_bar, P_ambient_bar)\n",
    "if abs(v_exhaust_isentropic_mps - v_exhaust_mps) > 20:\n",
    "    print('CEA and isentropic velocity calcs DON\\'T match. uh oh')\n",
    "else:\n",
    "    print('CEA and simplified velocity calcs match. good')\n",
    "print(f'Isentropic exhaust vel: {v_exhaust_isentropic_mps} m/s')"
   ]
  },
  {
   "cell_type": "code",
   "execution_count": 6,
   "metadata": {},
   "outputs": [
    {
     "name": "stdout",
     "output_type": "stream",
     "text": [
      "Propellant flow rates\n",
      "Total: 1.140kg/s Fuel: 0.400kg/s Oxidizer: 0.740kg/s\n"
     ]
    }
   ],
   "source": [
    "# propellant mass flow rates\n",
    "m_dot_kgps = F_thrust_N / v_exhaust_mps\n",
    "m_dot_fuel_kgps = m_dot_kgps / (1 + r_of_mass)\n",
    "m_dot_ox_kgps = r_of_mass * m_dot_fuel_kgps\n",
    "\n",
    "print('Propellant flow rates')\n",
    "print(f'Total: {m_dot_kgps:.3f}kg/s Fuel: {m_dot_fuel_kgps:.3f}kg/s Oxidizer: {m_dot_ox_kgps:.3f}kg/s')\n"
   ]
  },
  {
   "cell_type": "code",
   "execution_count": 7,
   "metadata": {},
   "outputs": [
    {
     "name": "stdout",
     "output_type": "stream",
     "text": [
      "Chamber radius: 41.5mm. Throat: 14.7mm. Exit: 32.4mm\n",
      "Converging length: 26.9mm. Diverging: 48.8mm.\n",
      "Chamber volume for given characteristic length: 881.2cm^3\n",
      "Chamber length: 122.8mm\n"
     ]
    }
   ],
   "source": [
    "# engine cross-sectional areas\n",
    "r_A_diverging = expansion_ratio(gamma_throat, P_chamber_bar, P_ambient_bar)\n",
    "A_throat_m2 = throat_area(gamma_throat, M_throat_kgpkmol, m_dot_kgps, T_chamber_K, P_chamber_bar)\n",
    "A_exit_m2 = A_throat_m2 * r_A_diverging\n",
    "A_chamber_m2 = A_throat_m2 * r_A_converging\n",
    "\n",
    "def radius(area):\n",
    "    return np.sqrt(area / np.pi)\n",
    "\n",
    "# engine dimensions\n",
    "r_chamber_m = radius(A_chamber_m2)\n",
    "r_throat_m = radius(A_throat_m2)\n",
    "r_exit_m = radius(A_exit_m2)\n",
    "\n",
    "print(f'Chamber radius: {r_chamber_m*1000:.1f}mm. Throat: {r_throat_m*1e3:.1f}mm. Exit: {r_exit_m*1e3:.1f}mm')\n",
    "\n",
    "L_diverging_m = cone_length(r_throat_m, r_exit_m, theta_diverging_deg)\n",
    "L_converging_m = cone_length(r_throat_m, r_chamber_m, theta_converging_deg)\n",
    "\n",
    "print(f'Converging length: {L_converging_m*1e3:.1f}mm. Diverging: {L_diverging_m*1e3:.1f}mm.')\n",
    "\n",
    "V_chamber_m3 = A_throat_m2 * L_char_m\n",
    "L_chamber_m = chamber_length(V_chamber_m3, L_converging_m, A_chamber_m2, A_throat_m2)\n",
    "\n",
    "print(f'Chamber volume for given characteristic length: {V_chamber_m3*1e6:.1f}cm^3')\n",
    "print(f'Chamber length: {L_chamber_m*1e3:.1f}mm')"
   ]
  },
  {
   "cell_type": "code",
   "execution_count": 8,
   "metadata": {},
   "outputs": [
    {
     "data": {
      "text/plain": [
       "[<matplotlib.lines.Line2D at 0x182f27fb340>,\n",
       " <matplotlib.lines.Line2D at 0x182f27fb370>]"
      ]
     },
     "execution_count": 8,
     "metadata": {},
     "output_type": "execute_result"
    },
    {
     "data": {
      "image/png": "[encoded data removed]",
      "text/plain": [
       "<Figure size 1440x720 with 1 Axes>"
      ]
     },
     "metadata": {
      "needs_background": "light"
     },
     "output_type": "display_data"
    }
   ],
   "source": [
    "# draw nozzle diagram to give an idea of proportions\n",
    "%matplotlib inline\n",
    "fig=plt.figure(figsize=(20,10))\n",
    "ax=fig.add_subplot()\n",
    "pts=[(0,r_chamber_m), (L_chamber_m,r_chamber_m), (L_chamber_m+L_converging_m,r_throat_m), (L_chamber_m+L_converging_m+L_diverging_m, r_exit_m)]\n",
    "xs, ys = zip(*pts)\n",
    "neg_ys = [-y for y in ys]\n",
    "ax.set_aspect('equal', 'box')\n",
    "ax.spines.bottom.set_position('zero')\n",
    "ax.plot(xs,ys,'b',xs,neg_ys,'b')"
   ]
  },
  {
   "cell_type": "markdown",
   "metadata": {},
   "source": [
    "## Injector"
   ]
  },
  {
   "cell_type": "code",
   "execution_count": 9,
   "metadata": {},
   "outputs": [],
   "source": [
    "#input parameters\n",
    "dP_injector_ox_bar = 5 #pressure drop in ox. inj.\n",
    "Cd_injector_ox = 0.7 #discharge coefficient in ox inj.\n",
    "n_injectors_ox = 8\n",
    "\n",
    "dP_injector_fuel_bar = 5"
   ]
  },
  {
   "cell_type": "code",
   "execution_count": 10,
   "metadata": {},
   "outputs": [],
   "source": [
    "def injector_area(mdot, Cd, rho, delta_P):\n",
    "    '''returns total area of injector required to achieve a given mass flow rate,\n",
    "    given Cd for injector, density of fuel, and pressure drop across injector.\n",
    "    assumes incompressible fluid flow through a hydraulic orifice (perhaps unreasonable for our oxidiser, GOX...)'''\n",
    "    return mdot / Cd / np.sqrt(2 * rho * delta_P * 1e5)"
   ]
  },
  {
   "cell_type": "code",
   "execution_count": 11,
   "metadata": {},
   "outputs": [
    {
     "name": "stdout",
     "output_type": "stream",
     "text": [
      "Fuel volume flow rate: 0.494L/s\n"
     ]
    }
   ],
   "source": [
    "# fuel injector\n",
    "# fuel volume flow rate, used to pick a spray nozzle part\n",
    "V_dot_fuel_m3ps = m_dot_fuel_kgps / rho_fuel_kgpm3\n",
    "P_fuel_injector_bar = P_chamber_bar + dP_injector_fuel_bar\n",
    "print(f'Fuel volume flow rate: {V_dot_fuel_m3ps*1e3:.3f}L/s')\n"
   ]
  },
  {
   "cell_type": "code",
   "execution_count": 12,
   "metadata": {},
   "outputs": [
    {
     "name": "stdout",
     "output_type": "stream",
     "text": [
      "Oxidiser volume flow rate: 18.607L/s (2.650L/s exiting tank)\n",
      "Oxidiser flow, std. ft^3/s: 20.0\n",
      "Total ox. injector area: 1.68cm^2\n",
      "Radius of the 8 ox. injectors: 2.58mm\n"
     ]
    }
   ],
   "source": [
    "# oxidiser injector\n",
    "# lookup oxidiser density at injector inlet using CoolProp\n",
    "ox = thermo.chemical.Chemical(ox_chem)\n",
    "ox.calculate(T=T_initial_ox_K, P=P_chamber_bar*constants.bar)\n",
    "rho_ox_chamber_kgpm3 = ox.rho\n",
    "ox.calculate(T=T_initial_ox_K, P=P_initial_ox_bar*constants.bar)\n",
    "rho_ox_tank_kgpm3 = ox.rho\n",
    "ox.calculate(T=T_initial_ox_K, P=P_std_bar*constants.bar)\n",
    "rho_ox_std_kgpm3 = ox.rho\n",
    "\n",
    "P_ox_injector_bar = P_chamber_bar + dP_injector_ox_bar\n",
    "\n",
    "V_dot_injector_ox_m3ps = m_dot_ox_kgps / rho_ox_chamber_kgpm3\n",
    "V_dot_tank_ox_m3ps = m_dot_ox_kgps/rho_ox_tank_kgpm3\n",
    "print(f'Oxidiser volume flow rate: {V_dot_injector_ox_m3ps*1e3:.3f}L/s ({V_dot_tank_ox_m3ps*1e3:.3f}L/s exiting tank)')\n",
    "V_dot_ox_stdft3ps = (m_dot_ox_kgps / rho_ox_std_kgpm3) / constants.foot**3\n",
    "print(f'Oxidiser flow, std. ft^3/s: {V_dot_ox_stdft3ps:.1f}')\n",
    "\n",
    "# injector area\n",
    "A_injector_ox_m2 = injector_area(\n",
    "    m_dot_ox_kgps,\n",
    "    Cd_injector_ox,\n",
    "    rho_ox_chamber_kgpm3,\n",
    "    dP_injector_ox_bar)\n",
    "print(f'Total ox. injector area: {A_injector_ox_m2*1e4:.2f}cm^2')\n",
    "r_injector_ox_m = np.sqrt(A_injector_ox_m2/np.pi/n_injectors_ox)\n",
    "print(f'Radius of the {n_injectors_ox} ox. injectors: {r_injector_ox_m*1e3:.2f}mm')"
   ]
  },
  {
   "cell_type": "markdown",
   "metadata": {},
   "source": [
    "## Propellant tanks"
   ]
  },
  {
   "cell_type": "code",
   "execution_count": 13,
   "metadata": {},
   "outputs": [
    {
     "name": "stdout",
     "output_type": "stream",
     "text": [
      "30s burn consumes 12.0kg fuel.\n",
      "Volume of fuel consumed: 14.8L\n",
      "Presurant flow is 0.68 SCF/s, total of 20.3 SCF consumed (8% of a 250SCF cylinder)\n"
     ]
    }
   ],
   "source": [
    "V_cylinder_stdft3 = 250\n",
    "#volume of a K size cylinder, standard cubic feet (SCF)\n",
    "# (specified by the volume of the gas contained if it were at standard conditions)\n",
    "\n",
    "m_fuel_kg = m_dot_fuel_kgps * dt_burn_s\n",
    "print(f'{dt_burn_s}s burn consumes {m_fuel_kg:.1f}kg fuel.')\n",
    "\n",
    "V_fuel_tank_m3 = V_dot_fuel_m3ps * dt_burn_s\n",
    "print(f'Volume of fuel consumed: {V_fuel_tank_m3*1e3:.1f}L')\n",
    "\n",
    "press = thermo.chemical.Chemical(press_chem)\n",
    "press.calculate(T=T_std_K, P=P_std_bar * constants.bar)\n",
    "rho_press_std_kgpm3 = press.rho\n",
    "press.calculate(T=T_initial_fuel_K, P=P_fuel_tank_bar * constants.bar)\n",
    "rho_press_tank_kgpm3 = press.rho\n",
    "\n",
    "V_dot_press_stdft3ps = V_dot_fuel_m3ps * rho_press_tank_kgpm3 / rho_press_std_kgpm3 \\\n",
    "    / constants.foot**3\n",
    "V_press_stdft3 = V_dot_press_stdft3ps * dt_burn_s\n",
    "\n",
    "print(f'Presurant flow is {V_dot_press_stdft3ps:.2f} SCF/s, total of {V_press_stdft3:.1f} SCF consumed ({V_press_stdft3/V_cylinder_stdft3:.0%} of a {V_cylinder_stdft3}SCF cylinder)')"
   ]
  },
  {
   "cell_type": "code",
   "execution_count": 14,
   "metadata": {},
   "outputs": [
    {
     "name": "stdout",
     "output_type": "stream",
     "text": [
      "30s burn consumes 22.2kg oxidizer.\n",
      "(approx.) Oxidiser tank volume: 79.5L\n",
      "Oxidiser tank SCF (std. ft^3): 598.5\n",
      "Requires 2.4x 250SCF cylinders\n"
     ]
    }
   ],
   "source": [
    "m_ox_kg = m_dot_ox_kgps * dt_burn_s\n",
    "print(f'{dt_burn_s}s burn consumes {m_ox_kg:.1f}kg oxidizer.')\n",
    "V_ox_tank_m3 = V_dot_tank_ox_m3ps * dt_burn_s\n",
    "print(f'(approx.) Oxidiser tank volume: {V_ox_tank_m3*1e3:.1f}L')\n",
    "V_ox_stdft3=V_dot_ox_stdft3ps*dt_burn_s\n",
    "print(f'Oxidiser tank SCF (std. ft^3): {V_ox_stdft3:.1f}')\n",
    "print(f'Requires {V_ox_stdft3/V_cylinder_stdft3:.1f}x {V_cylinder_stdft3}SCF cylinders')"
   ]
  },
  {
   "cell_type": "markdown",
   "metadata": {},
   "source": [
    "## Valves"
   ]
  },
  {
   "cell_type": "code",
   "execution_count": 15,
   "metadata": {},
   "outputs": [
    {
     "name": "stdout",
     "output_type": "stream",
     "text": [
      "Min. Cv for main fuel valve: 1.17\n",
      "for main ox valve: 0.87\n"
     ]
    }
   ],
   "source": [
    "# Main fuel valve\n",
    "# fuel tank --- main fuel valve --- filter,check valve,engine\n",
    "frac_dP_fuel_valve = 0.5\n",
    "P_fuel_valve_bar = (P_fuel_injector_bar + (P_fuel_tank_bar-P_fuel_injector_bar) * (1-frac_dP_fuel_valve)) #after valve\n",
    "\n",
    "# approx. fuel with gasoline (octane) for now\n",
    "# approx. pressure in valve as midway between pressure before and after valve\n",
    "fuel = thermo.chemical.Chemical('C8H18', T=T_initial_fuel_K, P=P_fuel_injector_bar*constants.bar)\n",
    "Cv_main_fuel = fluids.Kv_to_Cv(fluids.size_control_valve_l(rho=rho_fuel_kgpm3,\n",
    "                                                           Psat=fuel.Psat,\n",
    "                                                           Pc=fuel.Pc,\n",
    "                                                           mu=fuel.mu,\n",
    "                                                           P1=P_fuel_tank_bar*constants.bar,\n",
    "                                                           P2=P_fuel_valve_bar*constants.bar,\n",
    "                                                           Q=V_dot_fuel_m3ps))\n",
    "print(f'Min. Cv for main fuel valve: {Cv_main_fuel:.2f}')\n",
    "\n",
    "# Main oxidiser valve\n",
    "# O2 cylinders --- main ox valve --- plumbing --- check valve,engine\n",
    "frac_dP_ox_valve = 0.5 #how much of pressure drop from tank to injector occurs in ox valve?\n",
    "P_ox_valve_bar = P_ox_injector_bar + (P_initial_ox_bar-P_ox_injector_bar) * (1-frac_dP_ox_valve)\n",
    "\n",
    "ox.calculate(T=T_initial_ox_K, P=P_ox_valve_bar*constants.bar)\n",
    "mu_ox_Pas = 1e-4 # dynamic viscosity of O2 at standard conditions in 3e-5. Increases with pressure\n",
    "#if you can find a good source for this lmk\n",
    "Cv_main_ox = fluids.Kv_to_Cv(fluids.size_control_valve_g(T=T_initial_ox_K,\n",
    "                                                         MW=ox.MW,\n",
    "                                                         mu=mu_ox_Pas, # thermo lib won't give a viscosity for ideal gas?\n",
    "                                                         gamma=ox.isentropic_exponent,\n",
    "                                                         Z=ox.Z,\n",
    "                                                         P1=P_initial_ox_bar*constants.bar,\n",
    "                                                         P2=P_ox_valve_bar*constants.bar,\n",
    "                                                         Q=V_dot_ox_stdft3ps * (constants.foot**3)))\n",
    "\n",
    "print(f'for main ox valve: {Cv_main_ox:.2f}')"
   ]
  },
  {
   "cell_type": "markdown",
   "metadata": {},
   "source": [
    "## Piping"
   ]
  },
  {
   "cell_type": "code",
   "execution_count": 16,
   "metadata": {},
   "outputs": [
    {
     "name": "stdout",
     "output_type": "stream",
     "text": [
      "Steel pipe, surface variation=1.52e-06m\n"
     ]
    }
   ],
   "source": [
    "#pick pipe material, diameter, length here\n",
    "pipe_material = fluids.nearest_material_roughness('steel', clean=True) #at least I hope it's clean (;\n",
    "epsilon = fluids.material_roughness(pipe_material)\n",
    "print(f'{pipe_material} pipe, surface variation={epsilon}m')"
   ]
  },
  {
   "cell_type": "code",
   "execution_count": 19,
   "metadata": {},
   "outputs": [
    {
     "name": "stdout",
     "output_type": "stream",
     "text": [
      "Calculating pressure drop when ox. plumbing is 0.68\" ID, length=1m\n",
      "O2 flow rate: 79.4m/s, Reynolds = 545356\n",
      "Pressure drop: 1.026697956872574bar\n"
     ]
    }
   ],
   "source": [
    "#O2 Piping pressure drop calculation\n",
    "D_ox_pipe_m = 0.68*constants.inch #Internal Dia. (ID)\n",
    "L_ox_pipe_m = 1 #idk\n",
    "print(f'Calculating pressure drop when ox. plumbing is {D_ox_pipe_m/constants.inch}\" ID, length={L_ox_pipe_m}m')\n",
    "\n",
    "#calculate pressure drop\n",
    "v_ox_mps = m_dot_ox_kgps / rho_ox_chamber_kgpm3 / (np.pi / 4 * D_ox_pipe_m**2)\n",
    "Re = fluids.Reynolds(V=v_ox_mps, D=D_ox_pipe_m, rho = rho_ox_chamber_kgpm3, mu=mu_ox_Pas)\n",
    "print(f'O2 flow rate: {v_ox_mps:.1f}m/s, Reynolds = {Re:.0f}')\n",
    "fd = fluids.friction_factor(Re=Re, eD = epsilon/D_ox_pipe_m)\n",
    "K = fluids.K_from_f(fd=fd, L=L_ox_pipe_m, D=D_ox_pipe_m)\n",
    "dP_ox_pipe_bar = fluids.dP_from_K(K, rho=rho_ox_chamber_kgpm3, V=v_ox_mps) / constants.bar\n",
    "print(f'Pressure drop: {dP_ox_pipe_bar}bar')"
   ]
  },
  {
   "cell_type": "code",
   "execution_count": 21,
   "metadata": {},
   "outputs": [
    {
     "name": "stdout",
     "output_type": "stream",
     "text": [
      "Calculating pressure drop when fuel plumbing is 0.00635\" NPT, length=1m\n",
      "Fuel flow rate: 15.6m/s, Reynolds = 149095\n",
      "Pressure drop: 2.7981812311227277bar\n"
     ]
    }
   ],
   "source": [
    "#Fuel Piping pressure drop calculation\n",
    "D_fuel_pipe_m = 1/4*constants.inch #inches ID\n",
    "L_fuel_pipe_m = 1 #idk\n",
    "print(f'Calculating pressure drop when fuel plumbing is {D_fuel_pipe_m}\" NPT, length={L_fuel_pipe_m}m')\n",
    "\n",
    "#calculate pressure drop\n",
    "v_fuel_mps = m_dot_fuel_kgps / rho_fuel_kgpm3 / (np.pi / 4 * D_fuel_pipe_m**2)\n",
    "Re = fluids.Reynolds(V=v_fuel_mps, D=D_fuel_pipe_m, rho = rho_fuel_kgpm3, mu=fuel.mu)\n",
    "print(f'Fuel flow rate: {v_fuel_mps:.1f}m/s, Reynolds = {Re:.0f}')\n",
    "fd = fluids.friction_factor(Re=Re, eD = epsilon/D_fuel_pipe_m)\n",
    "K = fluids.K_from_f(fd=fd, L=L_fuel_pipe_m, D=D_fuel_pipe_m)\n",
    "dP_fuel_pipe_bar = fluids.dP_from_K(K, rho=rho_fuel_kgpm3, V=v_fuel_mps) / constants.bar\n",
    "print(f'Pressure drop: {dP_fuel_pipe_bar}bar')"
   ]
  }
 ],
 "metadata": {
  "interpreter": {
   "hash": "6807f5e89d37fb75e980cd52e929d6c23efc30736063300096196f9a39371be6"
  },
  "kernelspec": {
   "display_name": "Python 3.9.7 64-bit (windows store)",
   "name": "python3"
  },
  "language_info": {
   "codemirror_mode": {
    "name": "ipython",
    "version": 3
   },
   "file_extension": ".py",
   "mimetype": "text/x-python",
   "name": "python",
   "nbconvert_exporter": "python",
   "pygments_lexer": "ipython3",
   "version": "3.9.7"
  },
  "orig_nbformat": 4
 },
 "nbformat": 4,
 "nbformat_minor": 2
}
